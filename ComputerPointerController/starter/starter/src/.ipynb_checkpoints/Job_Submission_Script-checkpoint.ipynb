{
 "cells": [
  {
   "cell_type": "code",
   "execution_count": 1,
   "metadata": {},
   "outputs": [
    {
     "name": "stdout",
     "output_type": "stream",
     "text": [
      "Writing queue_job.sh\n"
     ]
    }
   ],
   "source": [
    "%%writefile queue_job.sh\n",
    "#!/bin/bash\n",
    "\n",
    "exec 1>/output/stdout.log 2>/output/stderr.log\n",
    "\n",
    "# TODO: Create MODEL variable\n",
    "FACEDETECTIONMODEL=$1\n",
    "LANDMARKDETECTIONMODEL=$2\n",
    "HEADPOSEESTIMATIONMODEL=$3\n",
    "GAZEESTIMATIONMODEL=$4\n",
    "# TODO: Create DEVICE variable\n",
    "DEVICE=$5\n",
    "OUTPUT=$6\n",
    "# TODO: Create VIDEO variable\n",
    "VIDEO=$7\n",
    "\n",
    "\n",
    "mkdir -p $6\n",
    "\n",
    "if echo \"$DEVICE\" | grep -q \"FPGA\"; then # if device passed in is FPGA, load bitstream to program FPGA\n",
    "    #Environment variables and compilation for edge compute nodes with FPGAs\n",
    "    export AOCL_BOARD_PACKAGE_ROOT=/opt/intel/openvino/bitstreams/a10_vision_design_sg2_bitstreams/BSP/a10_1150_sg2\n",
    "\n",
    "    source /opt/altera/aocl-pro-rte/aclrte-linux64/init_opencl.sh\n",
    "    aocl program acl0 /opt/intel/openvino/bitstreams/a10_vision_design_sg2_bitstreams/2020-2_PL2_FP16_MobileNet_Clamp.aocx\n",
    "\n",
    "    export CL_CONTEXT_COMPILER_MODE_INTELFPGA=3\n",
    "fi\n",
    "\n",
    "python3 main.py  -fd ${FACEDETECTIONMODEL} \\\n",
    "              -fl ${LANDMARKDETECTIONMODEL} \\\n",
    "              -hp ${HEADPOSEESTIMATIONMODEL} \\\n",
    "              -gz ${GAZEESTIMATIONMODEL} \\\n",
    "              -d ${DEVICE} \\\n",
    "              -o ${OUTPUT} \\\n",
    "              -i ${VIDEO}\n",
    "\n",
    "cd /output\n",
    "\n",
    "tar zcvf output.tgz *"
   ]
  },
  {
   "cell_type": "code",
   "execution_count": null,
   "metadata": {},
   "outputs": [],
   "source": []
  }
 ],
 "metadata": {
  "kernelspec": {
   "display_name": "Python 3",
   "language": "python",
   "name": "python3"
  },
  "language_info": {
   "codemirror_mode": {
    "name": "ipython",
    "version": 3
   },
   "file_extension": ".py",
   "mimetype": "text/x-python",
   "name": "python",
   "nbconvert_exporter": "python",
   "pygments_lexer": "ipython3",
   "version": "3.7.6"
  }
 },
 "nbformat": 4,
 "nbformat_minor": 4
}
